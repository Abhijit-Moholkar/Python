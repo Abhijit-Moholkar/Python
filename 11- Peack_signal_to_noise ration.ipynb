{
 "cells": [
  {
   "cell_type": "markdown",
   "id": "afea0b61",
   "metadata": {},
   "source": [
    "# Calculation of PSNR value of immage\n",
    "The term peak signal-to-noise ratio (PSNR) is an expression for the ratio between the maximum possible value (power) of a signal and the power of distorting noise that affects the quality of its representation."
   ]
  },
  {
   "cell_type": "markdown",
   "id": "cb585062",
   "metadata": {},
   "source": [
    "##### Install opencv package"
   ]
  },
  {
   "cell_type": "code",
   "execution_count": 1,
   "id": "698dd84e",
   "metadata": {},
   "outputs": [
    {
     "name": "stdout",
     "output_type": "stream",
     "text": [
      "Requirement already satisfied: opencv-python in c:\\programdata\\anaconda2\\lib\\site-packages (4.5.4.58)\n",
      "Requirement already satisfied: numpy>=1.17.3 in c:\\programdata\\anaconda2\\lib\\site-packages (from opencv-python) (1.20.1)\n",
      "Note: you may need to restart the kernel to use updated packages.\n"
     ]
    }
   ],
   "source": [
    "pip install opencv-python"
   ]
  },
  {
   "cell_type": "markdown",
   "id": "0d02c828",
   "metadata": {},
   "source": [
    "##### Import necessary Libraries"
   ]
  },
  {
   "cell_type": "code",
   "execution_count": 2,
   "id": "25f8dc2b",
   "metadata": {},
   "outputs": [],
   "source": [
    "import math           # To perform mathematical operations      \n",
    "import cv2            # Open source library for image processing\n",
    "import numpy as np    # For statistical data analysis"
   ]
  },
  {
   "cell_type": "code",
   "execution_count": 3,
   "id": "a61efabb",
   "metadata": {},
   "outputs": [
    {
     "name": "stdout",
     "output_type": "stream",
     "text": [
      "PSNR value is 12.07166640427273\n"
     ]
    }
   ],
   "source": [
    "\n",
    "def Representational(r, g, b):                  # Color of the image\n",
    "    return (0.299 * r + 0.287 * g + 0.114 * b)\n",
    "\n",
    "\n",
    "def calculate(img):\n",
    "    b, g, r = cv2.split(img)\n",
    "    pixelAt = Representational(r, g, b)        # To get values of RGB\n",
    "    return pixelAt\n",
    "\n",
    "\n",
    "def main():\n",
    "    # Loading images (orignal image and compressed image)\n",
    "    orignal_image = cv2.imread('orignal_image.png', 1)\n",
    "    compressed_image = cv2.imread('compressed_image.png', 1)\n",
    "\n",
    "    # Getting image height and width\n",
    "    height, width = orignal_image.shape[:2]\n",
    "    \n",
    "    orignalPixelAt = calculate(orignal_image)\n",
    "    compressedPixelAt = calculate(compressed_image)\n",
    "\n",
    "    diff = orignalPixelAt - compressedPixelAt\n",
    "    error = np.sum(np.abs(diff) ** 2)\n",
    "\n",
    "    error = error / (height * width)         # Get mean squared error\n",
    "\n",
    "    # MSR = error_sum/(height*width)\n",
    "    PSNR = -(10 * math.log10(error / (255 * 255)))    #R =255 for 8 bit unsigned integer type\n",
    "\n",
    "    print(\"PSNR value is {}\".format(PSNR))\n",
    "\n",
    "\n",
    "if __name__ == '__main__':\n",
    "    main()"
   ]
  },
  {
   "cell_type": "raw",
   "id": "6d0729c3",
   "metadata": {},
   "source": [
    "Hence peak signal-to-noise ratio (PSNR) for our immages is 12.07166640427273"
   ]
  }
 ],
 "metadata": {
  "kernelspec": {
   "display_name": "Python 3",
   "language": "python",
   "name": "python3"
  },
  "language_info": {
   "codemirror_mode": {
    "name": "ipython",
    "version": 3
   },
   "file_extension": ".py",
   "mimetype": "text/x-python",
   "name": "python",
   "nbconvert_exporter": "python",
   "pygments_lexer": "ipython3",
   "version": "3.8.8"
  }
 },
 "nbformat": 4,
 "nbformat_minor": 5
}
