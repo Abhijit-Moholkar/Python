{
 "cells": [
  {
   "cell_type": "markdown",
   "metadata": {},
   "source": [
    "# Sets\n",
    "A Set is a collection of an unordered data.\n",
    "As backgound data structure of set is hash table, it doesnot follow indexing and slicing also it doesnot allow duplicate data.\n",
    "Sets are created with braces.\n",
    "\n",
    "new_set = {\"apple\", \"banana\", \"cherry\"}`"
   ]
  },
  {
   "cell_type": "markdown",
   "metadata": {},
   "source": [
    "#### Create a set\n",
    "Use curly braces or the built-in set function."
   ]
  },
  {
   "cell_type": "code",
   "execution_count": 6,
   "metadata": {},
   "outputs": [
    {
     "name": "stdout",
     "output_type": "stream",
     "text": [
      "{()}\n",
      "<class 'set'>\n",
      "set()\n",
      "<class 'set'>\n",
      "{'stroberry', 'banana', 'apple'}\n",
      "{'one', 'three', 'two', 'four'}\n",
      "{'one', 'three', 'two', 'four'}\n",
      "{'e', 'a', 'd', 'c', 'g', 'b', 'f'}\n",
      "{(2, 3), (5, 6), (3, 4)}\n"
     ]
    }
   ],
   "source": [
    "new_set = {()}                # Create empty set using braces\n",
    "print(new_set)             \n",
    "print(type(new_set))\n",
    "\n",
    "new_set = set()             # Create empty set using built-in function\n",
    "print(new_set)\n",
    "print(type(new_set))\n",
    "\n",
    "new_set = {\"apple\", \"banana\", \"stroberry\"}       # Create set of elements\n",
    "print(new_set)\n",
    "\n",
    "# Create set of iterables like, list, tuple, string\n",
    "\n",
    "new_set = set([\"one\", \"two\", \"three\",\"four\"])         # Ceate set from list\n",
    "print(new_set)\n",
    "\n",
    "new_set = set((\"one\", \"two\", \"three\",\"four\"))         # Create set from tuple\n",
    "print(new_set)                                   \n",
    "\n",
    "new_set = set(\"aaabbbcccbbbbgggdddeeeeeffff\")         # Create from of string\n",
    "print(new_set)                                        # Set does not contain repeted elements\n",
    "\n",
    "new_set = {(2,3),(3,4),(5,6),(2,3)}                  # Create set of tuples\n",
    "print(new_set)"
   ]
  },
  {
   "cell_type": "markdown",
   "metadata": {},
   "source": [
    "#### Add elements"
   ]
  },
  {
   "cell_type": "code",
   "execution_count": 12,
   "metadata": {},
   "outputs": [
    {
     "name": "stdout",
     "output_type": "stream",
     "text": [
      "{True, 'Hello', 84}\n",
      "{True, 'Hello', 84, 42}\n",
      "{True, 2, 3, 84, 'Hello', 42}\n"
     ]
    }
   ],
   "source": [
    "new_set = set()         # Create empty set\n",
    "\n",
    "# use the add() method to add elements of different data types\n",
    "\n",
    "new_set.add(84)\n",
    "new_set.add(True)\n",
    "new_set.add(\"Hello\")\n",
    "\n",
    "print(new_set)           # You can add any number of non-repetative elements in set. Order of elements may vary\n",
    " \n",
    "new_set.add(42)         # Nothing happens if element already present\n",
    "print(new_set)\n",
    "\n",
    "new_set.update({1,2,3})  # It will add non duplicate elements of set in new_set\n",
    "print(new_set)\n",
    "\n",
    "# Difference between add and update\n",
    "# using add we can insert one element at a time \n",
    "# Using update we can insert multiple elements "
   ]
  },
  {
   "cell_type": "markdown",
   "metadata": {},
   "source": [
    "#### Remove elements"
   ]
  },
  {
   "cell_type": "code",
   "execution_count": 17,
   "metadata": {},
   "outputs": [
    {
     "name": "stdout",
     "output_type": "stream",
     "text": [
      "{'stroberry', 'banana'}\n",
      "{'banana'}\n",
      "banana\n",
      "set()\n",
      "set()\n"
     ]
    }
   ],
   "source": [
    "# remove(x): It is a method of set to remove set element (x), raises a KeyError if element is not present\n",
    "\n",
    "new_set = {\"apple\", \"banana\", \"stroberry\"}\n",
    "new_set.remove(\"apple\")\n",
    "print(new_set)\n",
    "\n",
    "# KeyError:\n",
    "# new_set.remove(\"orange\")\n",
    "\n",
    "# discard(x): It is another method of set to remove its element x, does not generate error if element is not present\n",
    "new_set.discard(\"stroberry\")\n",
    "new_set.discard(\"blueberry\")       # Does not generate error\n",
    "print(new_set)\n",
    "\n",
    "print(new_set.pop())         # pop method of set will remove any arbitary element and return it\n",
    "print(new_set)               # If set ie empty it generates key error indicating that pop from an empty set\n",
    "\n",
    "# clear() : remove all elements of set \n",
    "new_set.clear()\n",
    "print(new_set)"
   ]
  },
  {
   "cell_type": "markdown",
   "metadata": {},
   "source": [
    "##### Check if element is in Set\n",
    "To check existance of element in set use membership operator"
   ]
  },
  {
   "cell_type": "code",
   "execution_count": 18,
   "metadata": {},
   "outputs": [
    {
     "name": "stdout",
     "output_type": "stream",
     "text": [
      "yes\n"
     ]
    }
   ],
   "source": [
    "new_set = {\"apple\", \"banana\", \"stroberry\"}\n",
    "if \"apple\" in new_set:\n",
    "    print(\"yes\")"
   ]
  },
  {
   "cell_type": "markdown",
   "metadata": {},
   "source": [
    "#### Iterating "
   ]
  },
  {
   "cell_type": "code",
   "execution_count": 19,
   "metadata": {},
   "outputs": [
    {
     "name": "stdout",
     "output_type": "stream",
     "text": [
      "stroberry\n",
      "banana\n",
      "apple\n"
     ]
    }
   ],
   "source": [
    "# Iterating over a set by using a for loop\n",
    "\n",
    "new_set = {\"apple\", \"banana\", \"stroberry\"}\n",
    "for i in new_set:\n",
    "    print(i)"
   ]
  },
  {
   "cell_type": "code",
   "execution_count": 20,
   "metadata": {},
   "outputs": [],
   "source": [
    "# Methods of set"
   ]
  },
  {
   "cell_type": "markdown",
   "metadata": {},
   "source": [
    "#### Union and Intersection"
   ]
  },
  {
   "cell_type": "code",
   "execution_count": 22,
   "metadata": {},
   "outputs": [
    {
     "name": "stdout",
     "output_type": "stream",
     "text": [
      "{0, 1, 2, 3, 4, 5, 6, 7, 8, 9}\n",
      "{1, 2, 3, 5, 7, 9}\n",
      "{0, 2, 3, 4, 5, 6, 7, 8}\n",
      "set()\n",
      "{3, 5, 7}\n",
      "{2}\n"
     ]
    }
   ],
   "source": [
    "# Lets create three sets \n",
    "\n",
    "odd = {1, 3, 5, 7, 9}\n",
    "even = {0, 2, 4, 6, 8}\n",
    "prime = {2, 3, 5, 7}\n",
    "\n",
    "# union() : Return all non duplicate elements from both the sets. \n",
    "\n",
    "uni = odd.union(even)      # Changes are just reflection ant inplace\n",
    "print(uni)\n",
    "\n",
    "uni = odd.union(prime)      # Changes are just reflection ant inplace\n",
    "print(uni)\n",
    "\n",
    "uni = even.union(prime)      # Changes are just reflection ant inplace\n",
    "print(uni)\n",
    "\n",
    "# intersection(): Return comman non duplicate elements of both the sets\n",
    "\n",
    "inter = odd.intersection(even)       # Changes are just reflection not inplace\n",
    "print(inter)\n",
    "\n",
    "inter = odd.intersection(prime)\n",
    "print(inter)\n",
    "\n",
    "inter = even.intersection(prime)\n",
    "print(inter)"
   ]
  },
  {
   "cell_type": "markdown",
   "metadata": {},
   "source": [
    "#### Difference of sets"
   ]
  },
  {
   "cell_type": "code",
   "execution_count": 23,
   "metadata": {},
   "outputs": [
    {
     "name": "stdout",
     "output_type": "stream",
     "text": [
      "{14, 15, 16, 17, 18, 19}\n",
      "{1, 2, 10}\n",
      "{1, 2, 10, 14, 15, 16, 17, 18, 19}\n",
      "{1, 2, 10, 14, 15, 16, 17, 18, 19}\n"
     ]
    }
   ],
   "source": [
    "set1 = {11, 12, 13, 14, 15, 16, 17, 18, 19}\n",
    "set2 = {1, 2, 13, 10, 11, 12}\n",
    "\n",
    "# difference() : Return a set with all the elements of the set1 that are not in set2.\n",
    "\n",
    "diff_set = set1.difference(set2)\n",
    "print(diff_set)\n",
    "\n",
    "# set1.difference(set2) is not the same as set2.difference(set1)\n",
    "\n",
    "diff_set = set2.difference(set1)\n",
    "print(diff_set)\n",
    "\n",
    "# symmetric_difference() : Returns a set with all uncomman elements of set1 and set2 \n",
    "diff_set = set1.symmetric_difference(set2)\n",
    "print(diff_set)\n",
    "\n",
    "# set1.symmetric_difference(set2) = set2.symmetric_difference(set1)\n",
    "diff_set = set2.symmetric_difference(set1)\n",
    "print(diff_set)"
   ]
  },
  {
   "cell_type": "markdown",
   "metadata": {},
   "source": [
    "#### Updating sets"
   ]
  },
  {
   "cell_type": "code",
   "execution_count": 24,
   "metadata": {},
   "outputs": [
    {
     "name": "stdout",
     "output_type": "stream",
     "text": [
      "{1, 2, 10, 11, 12, 13, 14, 15, 16, 17, 18, 19}\n",
      "{11, 12, 13}\n",
      "{14, 15, 16, 17, 18, 19}\n",
      "{1, 2, 10, 14, 15, 16, 17, 18, 19}\n"
     ]
    }
   ],
   "source": [
    "set1 = {11, 12, 13, 14, 15, 16, 17, 18, 19}\n",
    "set2 = {1, 2, 13, 10, 11, 12}\n",
    "\n",
    "# update() : These  changes are inbuilt.\n",
    "\n",
    "set1.update(set2)      # It will add non duplicate elements of set2 in set1.\n",
    "print(set1)\n",
    "\n",
    "# intersection_update() : It will undate the set to comman elements only\n",
    "\n",
    "set1 = {11, 12, 13, 14, 15, 16, 17, 18, 19}    \n",
    "set1.intersection_update(set2)\n",
    "print(set1)\n",
    "\n",
    "# difference_update() : Update the set by removing comman elements from it.\n",
    "\n",
    "set1 = {11, 12, 13, 14, 15, 16, 17, 18, 19} \n",
    "set1.difference_update(set2)\n",
    "print(set1)\n",
    "\n",
    "# symmetric_difference_update() : Update the set to non duplicate elements of two sets.\n",
    "set1 = {11, 12, 13, 14, 15, 16, 17, 18, 19} \n",
    "set1.symmetric_difference_update(set2)\n",
    "print(set1)\n",
    "\n",
    "# Note: all update methods also work with other iterables as argument, e.g lists, tuples\n",
    "# set1.update([1, 2, 3, 4, 5, 6])"
   ]
  },
  {
   "cell_type": "markdown",
   "metadata": {},
   "source": [
    "#### Copying"
   ]
  },
  {
   "cell_type": "code",
   "execution_count": 26,
   "metadata": {},
   "outputs": [
    {
     "name": "stdout",
     "output_type": "stream",
     "text": [
      "{11, 12, 13, 14, 15, 16, 17}\n",
      "{11, 12, 13, 14, 15, 16, 17}\n",
      "{16, 17, 11, 12, 13, 14, 15}\n",
      "{11, 12, 13, 14, 15}\n"
     ]
    }
   ],
   "source": [
    "org_set = {11, 12, 13, 14, 15}\n",
    "\n",
    "# Deep copy: It will create another reference to the existing object.\n",
    "# Updation through new reference also affects origional object\n",
    "\n",
    "copy_set = org_set\n",
    "\n",
    "# Updation through new reference\n",
    "\n",
    "copy_set.update([13, 14, 15, 16, 17])\n",
    "print(copy_set)\n",
    "print(org_set)\n",
    "\n",
    "# Shallow copy: It will create new object using .cpoy method of set\n",
    "# Updation through new object cant affect origional object.\n",
    "\n",
    "org_set = {11, 12, 13, 14, 15}\n",
    "copy_set = org_set.copy()\n",
    "\n",
    "# now modifying the new object does not the original object\n",
    "\n",
    "copy_set.update([13, 14, 15, 16, 17])\n",
    "print(copy_set)\n",
    "print(org_set)"
   ]
  },
  {
   "cell_type": "markdown",
   "metadata": {},
   "source": [
    "#### Subset, Superset, and Disjoint"
   ]
  },
  {
   "cell_type": "code",
   "execution_count": 28,
   "metadata": {},
   "outputs": [
    {
     "name": "stdout",
     "output_type": "stream",
     "text": [
      "False\n",
      "True\n",
      "True\n",
      "False\n",
      "False\n",
      "True\n"
     ]
    }
   ],
   "source": [
    "set1 = {11, 12, 13, 14, 15, 16}\n",
    "set2 = {11, 12, 13}\n",
    "\n",
    "# Subset: issubset(setX) method of set returns True if setX contains the elements of input set\n",
    "\n",
    "print(set1.issubset(set2)) # False\n",
    "print(set2.issubset(set1)) # True\n",
    "\n",
    "# Superset: issuperset(setX) method of set returns True if the all elements of setX are in another set\n",
    "print(set1.issuperset(set2))  # True\n",
    "print(set2.issuperset(set1))  # False\n",
    " \n",
    "# Disjoint: isdisjoint(setX) method of set return True if both sets doesnot have duplicate elemens.\n",
    "set3 = {7, 8, 9}\n",
    "print(set1.isdisjoint(set2))   # False\n",
    "print(set1.isdisjoint(set3))   # True"
   ]
  },
  {
   "cell_type": "markdown",
   "metadata": {},
   "source": [
    "#### Frozenset\n",
    "Frozen set is just an immutable version of normal set. While elements of a set can be modified at any time, elements of frozen set can't be modified after creation. It means that we can assign any value to existing set but not to frozenset\n",
    "Creation with: `my_set = frozenset(iterable)`"
   ]
  },
  {
   "cell_type": "code",
   "execution_count": 31,
   "metadata": {},
   "outputs": [
    {
     "name": "stdout",
     "output_type": "stream",
     "text": [
      "frozenset({10, 11, 12, 13, 14, 15, 16, 17, 18, 19})\n",
      "frozenset()\n",
      "frozenset({11, 13, 15, 17, 19})\n",
      "frozenset({10, 11, 12, 13, 14, 15, 16, 17, 18, 19})\n",
      "True\n"
     ]
    }
   ],
   "source": [
    "a = frozenset([10, 11, 12, 13, 14])\n",
    "\n",
    "# The following modification methods are not allowed:\n",
    "# a.add(5)\n",
    "# a.remove(1)\n",
    "# a.discard(1)\n",
    "# a.clear()\n",
    "# a.update([1,2,3])\n",
    "\n",
    "# Operations which are providing just reflection are allowed\n",
    "\n",
    "odd = frozenset({11, 13, 15, 17, 19})\n",
    "even = frozenset({10, 12, 14, 16, 18})\n",
    "print(odd.union(even))\n",
    "print(odd.intersection(even))\n",
    "print(odd.difference(even))\n",
    "print(odd.symmetric_difference(even))\n",
    "print(odd.isdisjoint(even))\n",
    "print(odd.issubset(even))\n",
    "odd.issuperset(even))"
   ]
  },
  {
   "cell_type": "code",
   "execution_count": null,
   "metadata": {},
   "outputs": [],
   "source": []
  }
 ],
 "metadata": {
  "kernelspec": {
   "display_name": "Python 3",
   "language": "python",
   "name": "python3"
  },
  "language_info": {
   "codemirror_mode": {
    "name": "ipython",
    "version": 3
   },
   "file_extension": ".py",
   "mimetype": "text/x-python",
   "name": "python",
   "nbconvert_exporter": "python",
   "pygments_lexer": "ipython3",
   "version": "3.8.8"
  }
 },
 "nbformat": 4,
 "nbformat_minor": 2
}
