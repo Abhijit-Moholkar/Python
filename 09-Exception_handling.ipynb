{
 "cells": [
  {
   "cell_type": "markdown",
   "metadata": {},
   "source": [
    "# Errors and Exceptions\n",
    "A Python program terminates as soon as it encounters an error. In Python, an error can be a syntax error or an exception. In this article we will have a look at:\n",
    "- Syntax Error vs. Exception\n",
    "- How to raise Exceptions\n",
    "- How to handle Exceptions\n",
    "- Most common built-in Exceptions\n",
    "- How to define your own Exception"
   ]
  },
  {
   "cell_type": "markdown",
   "metadata": {},
   "source": [
    "##### Syntax Errors\n",
    "A **Syntax Error** occurs when the parser detects a syntactically incorrect statement. A syntax error due to uer mistakes and can be for example a typing mistake, missing brackets, multiple statements on single line (see code below), or wrong identation (this will actually raise its own IndentationError, but its subclassed from a SyntaxError)."
   ]
  },
  {
   "cell_type": "code",
   "execution_count": 1,
   "metadata": {},
   "outputs": [
    {
     "ename": "SyntaxError",
     "evalue": "invalid syntax (<ipython-input-1-fed4b61d14cd>, line 1)",
     "output_type": "error",
     "traceback": [
      "\u001b[1;36m  File \u001b[1;32m\"<ipython-input-1-fed4b61d14cd>\"\u001b[1;36m, line \u001b[1;32m1\u001b[0m\n\u001b[1;33m    a = 5 print(a)\u001b[0m\n\u001b[1;37m          ^\u001b[0m\n\u001b[1;31mSyntaxError\u001b[0m\u001b[1;31m:\u001b[0m invalid syntax\n"
     ]
    }
   ],
   "source": [
    "a = 5 print(a)"
   ]
  },
  {
   "cell_type": "markdown",
   "metadata": {},
   "source": [
    "##### Exceptions\n",
    "Even if a statement is syntactically correct, it may cause an error at run time, This is called an **Exception Error**. There are several different error classes, for example trying to add a number and a string will raise a TypeError. An attempt to use undefines variable will raise name error."
   ]
  },
  {
   "cell_type": "markdown",
   "metadata": {},
   "source": [
    "Exception handling: Exception handling is to execute code without error.\n",
    "Types of Exceptions:\n",
    "1. Built-in exception\n",
    "2. User defined exceptions (Customized exceptions)\n",
    "------------------------------------------------------------------------------\n",
    "4 building block for exception handling\n",
    "try:\n",
    "    Code that may cause an exception should be written here\n",
    "    # ATM transaction\n",
    "except:\n",
    "    if error occurs in try, it is\n",
    "    handled in except\n",
    "    #pincode wrong\n",
    "\n",
    "else:<optional>\n",
    "    if exception does not occur then else will get executed, otherwise not\n",
    "    # transaction successful\n",
    "\n",
    "finally:\n",
    "    Irrespective of error, this code will get executed always\n",
    "    #insert card ..."
   ]
  },
  {
   "cell_type": "markdown",
   "metadata": {},
   "source": [
    "## Built-in exception"
   ]
  },
  {
   "cell_type": "markdown",
   "metadata": {},
   "source": [
    "##### Code without handling Exceptio"
   ]
  },
  {
   "cell_type": "code",
   "execution_count": 2,
   "metadata": {},
   "outputs": [
    {
     "ename": "TypeError",
     "evalue": "unsupported operand type(s) for +: 'int' and 'str'",
     "output_type": "error",
     "traceback": [
      "\u001b[1;31m---------------------------------------------------------------------------\u001b[0m",
      "\u001b[1;31mTypeError\u001b[0m                                 Traceback (most recent call last)",
      "\u001b[1;32m<ipython-input-2-213cfffcd2e8>\u001b[0m in \u001b[0;36m<module>\u001b[1;34m\u001b[0m\n\u001b[1;32m----> 1\u001b[1;33m \u001b[0ma\u001b[0m \u001b[1;33m=\u001b[0m \u001b[1;36m5\u001b[0m \u001b[1;33m+\u001b[0m \u001b[1;34m'b'\u001b[0m\u001b[1;33m\u001b[0m\u001b[1;33m\u001b[0m\u001b[0m\n\u001b[0m",
      "\u001b[1;31mTypeError\u001b[0m: unsupported operand type(s) for +: 'int' and 'str'"
     ]
    }
   ],
   "source": [
    "a = 5 + 'b'"
   ]
  },
  {
   "cell_type": "markdown",
   "metadata": {},
   "source": [
    "##### Handling Exceptions\n",
    "You can use a `try` and `except` block to catch and handle exceptions. If you can catch an exceptions your program won't terminate, and execute successfully."
   ]
  },
  {
   "cell_type": "code",
   "execution_count": 3,
   "metadata": {},
   "outputs": [
    {
     "name": "stdout",
     "output_type": "stream",
     "text": [
      "some error occured.\n",
      "Only a ZeroDivisionError is handled here\n"
     ]
    }
   ],
   "source": [
    "# This will catch all possible exceptions\n",
    "try:\n",
    "    a = 5 / 'b'                   # Code that may generate Exception\n",
    "except:\n",
    "    print('some error occured.')  # Catch the error\n",
    "\n",
    "# It is good practice to specify the type of Exception you want to catch.\n",
    "# Therefore, you have to know the possible errors\n",
    "\n",
    "try:\n",
    "    a = 5 / 0\n",
    "except ZeroDivisionError:         # It will catch only ZeroDivisionError\n",
    "    print('Only a ZeroDivisionError is handled here')"
   ]
  },
  {
   "cell_type": "markdown",
   "metadata": {},
   "source": [
    "##### You can run multiple statements in a try block, and catch all possible exceptions\n",
    "But if exception raise at first statement then control transfers to catch block and cant execute remainning statements of try block"
   ]
  },
  {
   "cell_type": "code",
   "execution_count": 4,
   "metadata": {},
   "outputs": [
    {
     "name": "stdout",
     "output_type": "stream",
     "text": [
      "Exception 1 occurs\n",
      "Thank you for executing code\n"
     ]
    }
   ],
   "source": [
    "try:\n",
    "    print(10/0)               # ZeroDivisionError\n",
    "    print(10/'2')             # TypeError\n",
    "    print(10/e)               # NameError\n",
    "    open('sample111111.txt','r')    # FileNotFoundException\n",
    "except ZeroDivisionError:\n",
    "    print('Exception 1 occurs')\n",
    "except TypeError:\n",
    "    print('Exception 2 occurs')\n",
    "except NameError:\n",
    "    print('Exception 3 occurs')\n",
    "except:                       # Default exception to handle an exception which is not defined\n",
    "    print('Default exception')\n",
    "else:\n",
    "    print('No exception')\n",
    "finally:\n",
    "    print(\"Thank you for executing code\")"
   ]
  },
  {
   "cell_type": "markdown",
   "metadata": {},
   "source": [
    "##### When we want to put default msgs related to exception then"
   ]
  },
  {
   "cell_type": "code",
   "execution_count": 5,
   "metadata": {},
   "outputs": [
    {
     "name": "stdout",
     "output_type": "stream",
     "text": [
      "Exception 3 occurs: name 'e' is not defined\n"
     ]
    }
   ],
   "source": [
    "try:\n",
    "    #print(10/0)#ZeroDivisionError\n",
    "    #print(10/'2')#TypeError\n",
    "    print(10/e)#NameError\n",
    "\n",
    "except ZeroDivisionError as msg:\n",
    "    print('Exception 1 occurs:',msg)\n",
    "except TypeError as msg:\n",
    "    print('Exception 2 occurs:',msg)\n",
    "except NameError as msg:\n",
    "    print('Exception 3 occurs:',msg)\n",
    "except:\n",
    "    print('Default exception')\n",
    "else:\n",
    "    print('No exception')"
   ]
  },
  {
   "cell_type": "markdown",
   "metadata": {},
   "source": [
    "##### Catch multiiple exceptions in single except"
   ]
  },
  {
   "cell_type": "code",
   "execution_count": 6,
   "metadata": {},
   "outputs": [
    {
     "name": "stdout",
     "output_type": "stream",
     "text": [
      "Enter your number: 3\n",
      "3.3333333333333335\n",
      "Exception occurs: unsupported operand type(s) for /: 'int' and 'str'\n"
     ]
    }
   ],
   "source": [
    "a = int(input(\"Enter your number: \"))\n",
    "try:\n",
    "    print(10/a)                # ZeroDivisionError\n",
    "    print(10/'a')              # TypeError\n",
    "    print(10/e)               # NameError\n",
    "except (ZeroDivisionError,TypeError,NameError) as msg:        # Handle multiple exceptions in single except block\n",
    "    print('Exception occurs:',msg)\n",
    "\n",
    "except:                                                       # To handle undefined exception\n",
    "    print('Default exception')\n",
    "else:\n",
    "    print('No exception')"
   ]
  },
  {
   "cell_type": "markdown",
   "metadata": {},
   "source": [
    "## User defined/Customized exceptions/programatic exceptions\n",
    "Sometimes we have to define and raise exceptions explicitly to indicate that something is wrong there\n",
    "Here programmer is responsible for to define and handle the exceptions\n",
    "Two types of customized exceptions:\n",
    "1. raise keyword\n",
    "2. assert keyword\n",
    "\n",
    "*raise* - An unconditional exception.   \n",
    "*assert* - Generate an exception if a given condition is satisfied."
   ]
  },
  {
   "cell_type": "markdown",
   "metadata": {},
   "source": [
    "## raise"
   ]
  },
  {
   "cell_type": "code",
   "execution_count": 7,
   "metadata": {},
   "outputs": [
    {
     "name": "stdout",
     "output_type": "stream",
     "text": [
      "Enter the age:16\n"
     ]
    },
    {
     "ename": "Exception",
     "evalue": "Only Adults can log-in",
     "output_type": "error",
     "traceback": [
      "\u001b[1;31m---------------------------------------------------------------------------\u001b[0m",
      "\u001b[1;31mException\u001b[0m                                 Traceback (most recent call last)",
      "\u001b[1;32m<ipython-input-7-a5103ea3ad21>\u001b[0m in \u001b[0;36m<module>\u001b[1;34m\u001b[0m\n\u001b[0;32m      5\u001b[0m     \u001b[0mprint\u001b[0m\u001b[1;33m(\u001b[0m\u001b[1;34m'Login to Netflix'\u001b[0m\u001b[1;33m)\u001b[0m\u001b[1;33m\u001b[0m\u001b[1;33m\u001b[0m\u001b[0m\n\u001b[0;32m      6\u001b[0m \u001b[1;32melse\u001b[0m\u001b[1;33m:\u001b[0m\u001b[1;33m\u001b[0m\u001b[1;33m\u001b[0m\u001b[0m\n\u001b[1;32m----> 7\u001b[1;33m     \u001b[1;32mraise\u001b[0m \u001b[0mException\u001b[0m\u001b[1;33m(\u001b[0m\u001b[1;34m'Only Adults can log-in'\u001b[0m\u001b[1;33m)\u001b[0m    \u001b[1;31m# Condition is not a part of raise\u001b[0m\u001b[1;33m\u001b[0m\u001b[1;33m\u001b[0m\u001b[0m\n\u001b[0m",
      "\u001b[1;31mException\u001b[0m: Only Adults can log-in"
     ]
    }
   ],
   "source": [
    "age = int(input('Enter the age:'))\n",
    "# if age >=18 then allow entry\n",
    "# else dont\n",
    "if age>=18:\n",
    "    print('Login to Netflix')\n",
    "else:\n",
    "    raise Exception('Only Adults can log-in')    # Condition is not a part of raise"
   ]
  },
  {
   "cell_type": "markdown",
   "metadata": {},
   "source": [
    "##### Handling of raise Exception"
   ]
  },
  {
   "cell_type": "code",
   "execution_count": 8,
   "metadata": {},
   "outputs": [
    {
     "name": "stdout",
     "output_type": "stream",
     "text": [
      "Enter the age:16\n",
      "User should be above 18\n",
      "Raise Exception has been handled\n"
     ]
    }
   ],
   "source": [
    "age = int(input('Enter the age:'))\n",
    "# if age >=18 then allow entry\n",
    "# else dont\n",
    "if age>=18:\n",
    "    print('Login to Netflix')\n",
    "else:\n",
    "    try:\n",
    "        raise Exception('Only Adults can log-in')    # Condition is not a part of raise\n",
    "    except:\n",
    "        print(\"User should be above 18\")\n",
    "    print(\"Raise Exception has been handled\")"
   ]
  },
  {
   "cell_type": "markdown",
   "metadata": {},
   "source": [
    "## assert:\n",
    "it is based on condition,\n",
    "it executes till the condition is True, if condition is False  \n",
    "it will generate an assertion error"
   ]
  },
  {
   "cell_type": "code",
   "execution_count": 9,
   "metadata": {},
   "outputs": [
    {
     "name": "stdout",
     "output_type": "stream",
     "text": [
      "enter the value:3\n"
     ]
    },
    {
     "ename": "AssertionError",
     "evalue": "",
     "output_type": "error",
     "traceback": [
      "\u001b[1;31m---------------------------------------------------------------------------\u001b[0m",
      "\u001b[1;31mAssertionError\u001b[0m                            Traceback (most recent call last)",
      "\u001b[1;32m<ipython-input-9-d0ee6ca7da46>\u001b[0m in \u001b[0;36m<module>\u001b[1;34m\u001b[0m\n\u001b[0;32m      1\u001b[0m \u001b[0mval\u001b[0m \u001b[1;33m=\u001b[0m \u001b[0mint\u001b[0m\u001b[1;33m(\u001b[0m\u001b[0minput\u001b[0m\u001b[1;33m(\u001b[0m\u001b[1;34m\"enter the value:\"\u001b[0m\u001b[1;33m)\u001b[0m\u001b[1;33m)\u001b[0m\u001b[1;33m\u001b[0m\u001b[1;33m\u001b[0m\u001b[0m\n\u001b[1;32m----> 2\u001b[1;33m \u001b[1;32massert\u001b[0m \u001b[0mval\u001b[0m \u001b[1;33m%\u001b[0m\u001b[1;36m2\u001b[0m \u001b[1;33m==\u001b[0m \u001b[1;36m0\u001b[0m                        \u001b[1;31m#if this is False ==> results assertion error\u001b[0m\u001b[1;33m\u001b[0m\u001b[1;33m\u001b[0m\u001b[0m\n\u001b[0m\u001b[0;32m      3\u001b[0m \u001b[0mprint\u001b[0m\u001b[1;33m(\u001b[0m\u001b[1;34m'Input is even number'\u001b[0m\u001b[1;33m)\u001b[0m\u001b[1;33m\u001b[0m\u001b[1;33m\u001b[0m\u001b[0m\n",
      "\u001b[1;31mAssertionError\u001b[0m: "
     ]
    }
   ],
   "source": [
    "val = int(input(\"enter the value:\"))\n",
    "assert val %2 == 0                        #if this is False ==> results assertion error\n",
    "print('Input is even number')"
   ]
  },
  {
   "cell_type": "markdown",
   "metadata": {},
   "source": [
    "##### To display message of assertion error"
   ]
  },
  {
   "cell_type": "code",
   "execution_count": 10,
   "metadata": {},
   "outputs": [
    {
     "name": "stdout",
     "output_type": "stream",
     "text": [
      "enter the value:3\n"
     ]
    },
    {
     "ename": "AssertionError",
     "evalue": "Only even numbers are accepted as input",
     "output_type": "error",
     "traceback": [
      "\u001b[1;31m---------------------------------------------------------------------------\u001b[0m",
      "\u001b[1;31mAssertionError\u001b[0m                            Traceback (most recent call last)",
      "\u001b[1;32m<ipython-input-10-132d40ded06a>\u001b[0m in \u001b[0;36m<module>\u001b[1;34m\u001b[0m\n\u001b[0;32m      1\u001b[0m \u001b[0mval\u001b[0m \u001b[1;33m=\u001b[0m \u001b[0mint\u001b[0m\u001b[1;33m(\u001b[0m\u001b[0minput\u001b[0m\u001b[1;33m(\u001b[0m\u001b[1;34m\"enter the value:\"\u001b[0m\u001b[1;33m)\u001b[0m\u001b[1;33m)\u001b[0m\u001b[1;33m\u001b[0m\u001b[1;33m\u001b[0m\u001b[0m\n\u001b[1;32m----> 2\u001b[1;33m \u001b[1;32massert\u001b[0m \u001b[0mval\u001b[0m \u001b[1;33m%\u001b[0m\u001b[1;36m2\u001b[0m \u001b[1;33m==\u001b[0m \u001b[1;36m0\u001b[0m\u001b[1;33m,\u001b[0m\u001b[1;34m'Only even numbers are accepted as input'\u001b[0m              \u001b[1;31m#if this is False ==> results assertion error\u001b[0m\u001b[1;33m\u001b[0m\u001b[1;33m\u001b[0m\u001b[0m\n\u001b[0m\u001b[0;32m      3\u001b[0m \u001b[0mprint\u001b[0m\u001b[1;33m(\u001b[0m\u001b[1;34m'Input is even number'\u001b[0m\u001b[1;33m)\u001b[0m\u001b[1;33m\u001b[0m\u001b[1;33m\u001b[0m\u001b[0m\n",
      "\u001b[1;31mAssertionError\u001b[0m: Only even numbers are accepted as input"
     ]
    }
   ],
   "source": [
    "val = int(input(\"enter the value:\"))\n",
    "assert val %2 == 0,'Only even numbers are accepted as input'              #if this is False ==> results assertion error\n",
    "print('Input is even number')"
   ]
  },
  {
   "cell_type": "markdown",
   "metadata": {},
   "source": [
    "##### Handling of AssertionError"
   ]
  },
  {
   "cell_type": "code",
   "execution_count": 11,
   "metadata": {},
   "outputs": [
    {
     "name": "stdout",
     "output_type": "stream",
     "text": [
      "enter the value:3\n",
      "You should enter even number\n",
      "AssertionError has been handled\n"
     ]
    }
   ],
   "source": [
    "val = int(input(\"enter the value:\"))\n",
    "try:\n",
    "    assert val %2 == 0,'Only even numbers are accepted as input'              #if this is False ==> results assertion error\n",
    "except:\n",
    "    print(\"You should enter even number\")\n",
    "else:\n",
    "    print('Input is even number')\n",
    "print(\"AssertionError has been handled\")"
   ]
  },
  {
   "cell_type": "markdown",
   "metadata": {},
   "source": [
    "##### Common built-in Exceptions\n",
    "You can find all built-in Exceptions at: https://docs.python.org/3/library/exceptions.html\n",
    "- ImportError: If a module not imported and try to access\n",
    "- NameError: If you try to use undefined variable\n",
    "- FileNotFoundError: If you try to open a file that does not exist at specified path\n",
    "- ValueError: When you try to use undefined argument,\n",
    "- TypeError: Raised when an operation is applied to an object of inappropriate type.\n",
    "- IndexError: If you try to access an invalid index of a iterable, e.g a list or a tuple.\n",
    "- KeyError: If you try to access a non existing key of a dictionary."
   ]
  },
  {
   "cell_type": "raw",
   "metadata": {},
   "source": [
    "# ImportError\n",
    "import nonexistingmodule\n",
    "\n",
    "# NameError\n",
    "a = undefinedvariable\n",
    "\n",
    "# FileNotFoundError\n",
    "with open('nonexistingfileatpath.txt') as f:\n",
    "    read_data = f.read()\n",
    "\n",
    "# ValueError\n",
    "a = [0, 1, 2]\n",
    "a.remove(13)\n",
    "\n",
    "# TypeError\n",
    "a = 5 + \"2\"\n",
    "\n",
    "# IndexError\n",
    "a = [0, 1, 2]\n",
    "value = a[5]\n",
    "\n",
    "# KeyError\n",
    "my_dict = {\"name\": \"Max\", \"city\": \"Boston\"}\n",
    "age = my_dict[\"pin\"]"
   ]
  },
  {
   "cell_type": "markdown",
   "metadata": {},
   "source": [
    "##### Define your own Exceptions\n",
    "You can define your own exception class that should be inherited from the built-in `Exception` class. Exception classes can be defined like any other class"
   ]
  },
  {
   "cell_type": "code",
   "execution_count": 12,
   "metadata": {},
   "outputs": [
    {
     "name": "stdout",
     "output_type": "stream",
     "text": [
      "('Value is too high.', 10000)\n"
     ]
    }
   ],
   "source": [
    "# minimal example for own exception class\n",
    "class ValueTooHighError(Exception):\n",
    "    pass\n",
    "\n",
    "# or add some more information for handlers\n",
    "class ValueTooLowError(Exception):\n",
    "    def __init__(self, message, value):\n",
    "        self.message = message\n",
    "        self.value = value\n",
    "\n",
    "def test_value(a):\n",
    "    if a > 1000:\n",
    "        raise ValueTooHighError('Value is too high.',a)\n",
    "    if a < 5:\n",
    "        raise ValueTooLowError('Value is too low.', a) # Note that the constructor takes 2 arguments here\n",
    "    return a\n",
    "\n",
    "try:\n",
    "    test_value(10000)\n",
    "except ValueTooHighError as e:\n",
    "    print(e)\n",
    "except ValueTooLowError as e:\n",
    "    print(e.message, 'The value is:', e.value)"
   ]
  }
 ],
 "metadata": {
  "kernelspec": {
   "display_name": "Python 3",
   "language": "python",
   "name": "python3"
  },
  "language_info": {
   "codemirror_mode": {
    "name": "ipython",
    "version": 3
   },
   "file_extension": ".py",
   "mimetype": "text/x-python",
   "name": "python",
   "nbconvert_exporter": "python",
   "pygments_lexer": "ipython3",
   "version": "3.8.8"
  }
 },
 "nbformat": 4,
 "nbformat_minor": 2
}
