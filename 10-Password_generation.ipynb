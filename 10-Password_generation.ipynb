{
 "cells": [
  {
   "cell_type": "markdown",
   "id": "22028707",
   "metadata": {},
   "source": [
    "## Password Generation\n",
    "This code to generate a cofidential password of length provided by user. It is a combination of lower or uppercase letters, digits, and punctuations"
   ]
  },
  {
   "cell_type": "markdown",
   "id": "ae05b78a",
   "metadata": {},
   "source": [
    "##### Import required libraries "
   ]
  },
  {
   "cell_type": "code",
   "execution_count": 1,
   "id": "372283eb",
   "metadata": {},
   "outputs": [],
   "source": [
    "import string\n",
    "import random"
   ]
  },
  {
   "cell_type": "markdown",
   "id": "b06a7fc8",
   "metadata": {},
   "source": [
    "##### Python code to get password of required length"
   ]
  },
  {
   "cell_type": "code",
   "execution_count": 2,
   "id": "0aa64846",
   "metadata": {},
   "outputs": [
    {
     "name": "stdout",
     "output_type": "stream",
     "text": [
      "Enter length of password15\n",
      "Your password is: \n",
      "<Z7{;WxS)>gc$:P\n"
     ]
    }
   ],
   "source": [
    "if __name__ == \"__main__\":\n",
    "    s1 = string.ascii_lowercase\n",
    "    s2 = string.ascii_uppercase\n",
    "    s3 = string.digits  \n",
    "    s4 = string.punctuation\n",
    "    \n",
    "    plen=int(input(\"Enter length of password\"))\n",
    "    s=[]\n",
    "    s.extend(list(s1))\n",
    "    s.extend(list(s2))\n",
    "    s.extend(list(s3))\n",
    "    s.extend(list(s4))\n",
    "    print(\"Your password is: \")\n",
    "    print(''.join(random.sample(s,plen)))"
   ]
  },
  {
   "cell_type": "raw",
   "id": "e4f5718d",
   "metadata": {},
   "source": [
    "This code has generated a password of the specified length which is a combination of lower and uppercase characters , digits, and punctuations"
   ]
  }
 ],
 "metadata": {
  "kernelspec": {
   "display_name": "Python 3",
   "language": "python",
   "name": "python3"
  },
  "language_info": {
   "codemirror_mode": {
    "name": "ipython",
    "version": 3
   },
   "file_extension": ".py",
   "mimetype": "text/x-python",
   "name": "python",
   "nbconvert_exporter": "python",
   "pygments_lexer": "ipython3",
   "version": "3.8.8"
  }
 },
 "nbformat": 4,
 "nbformat_minor": 5
}
