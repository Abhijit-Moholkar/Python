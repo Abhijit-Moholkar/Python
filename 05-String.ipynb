{
 "cells": [
  {
   "cell_type": "markdown",
   "metadata": {},
   "source": [
    "# String\n",
    "A string is a global data type having collection of hetrogeneous characters. String literals in Python are enclosed by either single or double quotes. \n",
    "As background data stucture of string is array, it follow ordering, indexing and slicing  .\n",
    "\n",
    "my_string = 'Hello'\n",
    "\n",
    "Python strings are immutable which means they cannot be changed after creation."
   ]
  },
  {
   "cell_type": "markdown",
   "metadata": {},
   "source": [
    "##### String creation"
   ]
  },
  {
   "cell_type": "code",
   "execution_count": 1,
   "metadata": {},
   "outputs": [
    {
     "name": "stdout",
     "output_type": "stream",
     "text": [
      "\n",
      "<class 'str'>\n",
      "Hello\n",
      "Hello\n",
      "I' m a 'Geek'\n",
      "I' m a \"Geek\"\n",
      "I' m a 'Geek'\n",
      "Hello\n",
      "World\n",
      "Hello World!!! How are you?\n"
     ]
    }
   ],
   "source": [
    "# Creation of empty string\n",
    "\n",
    "new_string = ''\n",
    "print(new_string)\n",
    "print(type(new_string))\n",
    "      \n",
    "# Creation using singe or double quotes\n",
    "\n",
    "new_string = 'Hello'           # String creation using single quotes\n",
    "print(new_string)\n",
    "new_string = \"Hello\"           # String creation using double quotes\n",
    "print(new_string)\n",
    "new_string = \"I' m a 'Geek'\"  # String creation using combination of single and double quotes\n",
    "print(new_string)              # By PEP8 standards outer quote should be double quote\n",
    "\n",
    "# Escaping backslash\n",
    "\n",
    "new_string = 'I\\' m a \"Geek\"'\n",
    "print(new_string)\n",
    "new_string = 'I\\' m a \\'Geek\\''\n",
    "print(new_string)\n",
    "\n",
    "# Triple quotes for multiline strings(DocString)\n",
    "\n",
    "new_string = \"\"\"Hello\n",
    "World\"\"\"\n",
    "print(new_string)\n",
    "\n",
    "# Backslash if you want to continue in the next line. It will generate a single line from multiple lines\n",
    "\n",
    "new_string = \"Hello \\\n",
    "World!!! \\\n",
    "How \\\n",
    "are \\\n",
    "you?\"\n",
    "print(new_string)"
   ]
  },
  {
   "cell_type": "markdown",
   "metadata": {},
   "source": [
    "##### Access characters and substrings"
   ]
  },
  {
   "cell_type": "code",
   "execution_count": 2,
   "metadata": {},
   "outputs": [
    {
     "name": "stdout",
     "output_type": "stream",
     "text": [
      "H\n",
      "el\n",
      "Hello\n",
      "World\n",
      "HloWrd\n",
      "el ol\n",
      "dlroW olleH\n"
     ]
    }
   ],
   "source": [
    "new_string = \"Hello World\"\n",
    "\n",
    "# Retrieve characters by referring to index\n",
    "b = new_string[0]\n",
    "print(b)\n",
    "\n",
    "# Retrieve substrings by slicing\n",
    "\n",
    "b = new_string[1:3] # Retrive characters at index 1 1nd 2\n",
    "print(b)\n",
    "b = new_string[:5] # Retrieve first five characters\n",
    "print(b)\n",
    "b = new_string[6:] # Retrieve all characters excluding first 6.\n",
    "print(b)\n",
    "b = new_string[::2] # Retrieve characters at even index\n",
    "print(b)\n",
    "b = new_string[1::2] # Retrieve characters at odd index\n",
    "print(b)\n",
    "b = new_string[::-1] # reverse the string with a negative step:\n",
    "print(b)"
   ]
  },
  {
   "cell_type": "markdown",
   "metadata": {},
   "source": [
    "##### Concatenate two or more strings"
   ]
  },
  {
   "cell_type": "code",
   "execution_count": 3,
   "metadata": {},
   "outputs": [
    {
     "name": "stdout",
     "output_type": "stream",
     "text": [
      "Hello Mom\n"
     ]
    }
   ],
   "source": [
    "# concat multiple strings with +\n",
    "greeting = \"Hello\"\n",
    "name = \"Mom\"\n",
    "sentence = greeting + ' ' + name\n",
    "print(sentence)"
   ]
  },
  {
   "cell_type": "markdown",
   "metadata": {},
   "source": [
    "##### Iterating"
   ]
  },
  {
   "cell_type": "code",
   "execution_count": 4,
   "metadata": {},
   "outputs": [
    {
     "name": "stdout",
     "output_type": "stream",
     "text": [
      "H\n",
      "e\n",
      "l\n",
      "l\n",
      "o\n"
     ]
    }
   ],
   "source": [
    "# Iterating over a string by using a for loop\n",
    "\n",
    "new_string = 'Hello'\n",
    "for i in new_string:\n",
    "    print(i)"
   ]
  },
  {
   "cell_type": "markdown",
   "metadata": {},
   "source": [
    "##### Check if a character or substring exists using membership operator"
   ]
  },
  {
   "cell_type": "code",
   "execution_count": 5,
   "metadata": {},
   "outputs": [
    {
     "name": "stdout",
     "output_type": "stream",
     "text": [
      "No\n",
      "yes\n"
     ]
    }
   ],
   "source": [
    "if \"m\" in \"Hello\":\n",
    "    print(\"yes\")\n",
    "else: \n",
    "    print(\"No\")\n",
    "if \"llo\" in \"Hello\":\n",
    "    print(\"yes\")"
   ]
  },
  {
   "cell_type": "markdown",
   "metadata": {},
   "source": [
    "##### methods of string"
   ]
  },
  {
   "cell_type": "code",
   "execution_count": 6,
   "metadata": {},
   "outputs": [
    {
     "name": "stdout",
     "output_type": "stream",
     "text": [
      "28\n",
      "$     $$Hello# W@orld* 22\n",
      "$     $$Hello# W@orld*       28\n",
      "$     $$Hello# W@orld* 22\n",
      "     $$Hello# W@orld*      \n",
      "HelloWorld\n",
      "HelloWorld\n",
      "$     $$HELLO# W@ORLD*      \n",
      "$     $$Hello# W@Orld*      \n",
      "$     $$hello# w@orld*      \n",
      "$     $$hello# w@orld*      \n",
      "True\n",
      "False\n",
      "True\n",
      "False\n",
      "2\n",
      "5\n",
      "2\n",
      "5\n",
      "2\n",
      "Hello Universe\n",
      "['how', 'are', 'you', 'doing']\n",
      "['one', 'two', 'three']\n",
      "How are you doing\n",
      "one,two,three*******\n",
      "*******one,two,three\n",
      "***one,two,three****\n"
     ]
    }
   ],
   "source": [
    "new_string = \"$     $$Hello# W@orld*      \"\n",
    "\n",
    "# Number of characters / length of string\n",
    "print(len(new_string))\n",
    "\n",
    "# Remove white spaces at both ends of string\n",
    "print(new_string.strip(),len(new_string.strip()))\n",
    "\n",
    "# Remove white spaces at left ends of string\n",
    "print(new_string.lstrip(),len(new_string.lstrip()))\n",
    "\n",
    "# Remove white spaces at Right ends of string\n",
    "print(new_string.rstrip(),len(new_string.rstrip()))\n",
    "\n",
    "# Remove unwanted characters at both ends of string\n",
    "print(new_string.strip('$#@*'))                     # It will remove first $ but not at the middle\n",
    "\n",
    "# Remove unwanted characters from string\n",
    "print(''.join(filter(str.isalnum,new_string)))      # It will remove all non-alpha-numeric characters\n",
    "\n",
    "print(''.join(char for char in new_string if char.isalnum()))    # Second approach for character removal\n",
    "\n",
    "# Change case of sting\n",
    "\n",
    "print(new_string.upper())     # To convert string in upper case\n",
    "print(new_string.title())     # To convert string in title case \n",
    "print(new_string.lower())     # To convert string in lower case\n",
    "print(new_string.casefold())  # To convert string in lower case including special notations of other languages\n",
    "\n",
    "# Check whether string starts with or ends with specific characters: It returns boolean output\n",
    "\n",
    "print(\"hello\".startswith(\"he\"))   # True\n",
    "print(\"hello\".startswith(\"eh\"))   # False\n",
    "print(\"hello\".endswith(\"llo\"))    # True\n",
    "print(\"hello\".endswith(\"lol\"))    # False\n",
    "\n",
    "# find first index of a given substring, -1 otherwise\n",
    "print(\"Heollo\".find(\"o\"))\n",
    "\n",
    "# find last index of a given substring, -1 otherwise\n",
    "print(\"Heollo\".rfind(\"o\"))\n",
    "\n",
    "# Return first index of a given substring, ValueError otherwise\n",
    "print(\"Heollo\".index(\"o\"))\n",
    "\n",
    "# Return last index of a given substring, ValueError otherwise\n",
    "print(\"Heollo\".rindex(\"o\"))\n",
    "\n",
    "# count number of character/substring occuances\n",
    "print(\"Helleo\".count(\"e\"))\n",
    "\n",
    "# replace a substring with another string (only if the substring is found)\n",
    "# Note: The original string stays the same\n",
    "message = \"Hello World\"\n",
    "new_message = message.replace(\"World\", \"Universe\")   # Changes are made in new created object\n",
    "print(new_message)\n",
    "\n",
    "# String to list conversion\n",
    "new_string = \"how are you doing\"\n",
    "a = new_string.split()         # default argument is \" \". It will split string at white spaces\n",
    "print(a)\n",
    "\n",
    "new_string = \"one,two,three\"   # It will split string at ',' \n",
    "a = new_string.split(\",\")            \n",
    "print(a)\n",
    "\n",
    "# list into a string conversion\n",
    "new_list = ['How', 'are', 'you', 'doing']\n",
    "a = ' '.join(new_list) # the given string is the separator, e.g. ' ' between each argument\n",
    "print(a)\n",
    "\n",
    "# Change string allignment\n",
    "print(new_string.ljust(20,'*'))     # Left allignment\n",
    "print(new_string.rjust(20,'*'))     # right allignment\n",
    "print(new_string.center(20,'*'))    # center allignment"
   ]
  },
  {
   "cell_type": "markdown",
   "metadata": {},
   "source": [
    "##### Format\n",
    "New style is with .format() and old style is with % operator."
   ]
  },
  {
   "cell_type": "code",
   "execution_count": 7,
   "metadata": {},
   "outputs": [
    {
     "name": "stdout",
     "output_type": "stream",
     "text": [
      "Hello Bob and Tom\n",
      "Hello Bob and Tom\n",
      "Hello Tom and Bob\n",
      "The integer value is 2\n",
      "The float value is 2.123\n",
      "The float value is 2.123400e+00\n",
      "The binary value is 10\n",
      "Hello Bob and Tom\n",
      "The decimal value is 3\n",
      "The float value is 3.141593\n",
      "The float value is 3.14\n"
     ]
    }
   ],
   "source": [
    "# Use braces as placeholders\n",
    "a = \"Hello {0} and {1}\".format(\"Bob\", \"Tom\")\n",
    "print(a)\n",
    "\n",
    "# The positions are optional for the default order\n",
    "a = \"Hello {} and {}\".format(\"Bob\", \"Tom\")\n",
    "print(a)\n",
    "\n",
    "# Its possible to change order\n",
    "a = \"Hello {1} and {0}\".format(\"Bob\", \"Tom\")\n",
    "print(a)\n",
    "\n",
    "a = \"The integer value is {}\".format(2)\n",
    "print(a)\n",
    "\n",
    "# some special format rules for numbers\n",
    "a = \"The float value is {0:.3f}\".format(2.1234)   # Three digits after decimal point\n",
    "print(a)\n",
    "a = \"The float value is {0:e}\".format(2.1234)     # Result is in exponantial format\n",
    "print(a)\n",
    "a = \"The binary value is {0:b}\".format(2)         # Result is in binary format\n",
    "print(a)\n",
    "\n",
    "# old style formatting by using % operator\n",
    "\n",
    "print(\"Hello %s and %s\" % (\"Bob\", \"Tom\")) # must be a tuple for multiple arguments and should follow order\n",
    "val =  3.14159265359\n",
    "print(\"The decimal value is %d\" % val)   # Value should be in integer format\n",
    "print(\"The float value is %f\" % val)     # Value should be in floating point format\n",
    "print(\"The float value is %.2f\" % val)   # value should be in floating point format and up to 2 digits after decimal point"
   ]
  },
  {
   "cell_type": "markdown",
   "metadata": {},
   "source": [
    "##### f-Strings\n",
    "New since Python 3.6. Use the variables directly inside the braces."
   ]
  },
  {
   "cell_type": "code",
   "execution_count": 8,
   "metadata": {},
   "outputs": [
    {
     "name": "stdout",
     "output_type": "stream",
     "text": [
      "Hello, Eric. Your age is 25.\n",
      "Pi is 3.142\n",
      "The value is 120\n"
     ]
    }
   ],
   "source": [
    "name = \"Eric\"\n",
    "age = 25\n",
    "a = f\"Hello, {name}. Your age is {age}.\"\n",
    "print(a)\n",
    "pi = 3.14159\n",
    "a = f\"Pi is {pi:.3f}\"\n",
    "print(a)\n",
    "# f-Strings are evaluated at runtime, which allows expressions\n",
    "a = f\"The value is {2*60}\"\n",
    "print(a)"
   ]
  },
  {
   "cell_type": "markdown",
   "metadata": {},
   "source": [
    "##### More on immutability and concatenation"
   ]
  },
  {
   "cell_type": "code",
   "execution_count": 9,
   "metadata": {},
   "outputs": [
    {
     "name": "stdout",
     "output_type": "stream",
     "text": [
      "concatenate string with + : 0.35178 time\n",
      "concatenate string with join(): 0.01104 time\n"
     ]
    }
   ],
   "source": [
    "# since a string is immutable, adding strings with +,  or += always \n",
    "# creates a new string, and therefore is expensive for multiple operations\n",
    "# --> join method is much faster\n",
    "\n",
    "from timeit import default_timer as timer\n",
    "new_list = [\"a\"] * 1000000\n",
    "\n",
    "# bad\n",
    "start = timer()\n",
    "a = \"\"\n",
    "for i in new_list:\n",
    "    a += i\n",
    "end = timer()\n",
    "print(\"concatenate string with + : %.5f time\" % (end - start))\n",
    "\n",
    "# good\n",
    "start = timer()\n",
    "a = \"\".join(new_list)\n",
    "end = timer()\n",
    "print(\"concatenate string with join(): %.5f time\" % (end - start))"
   ]
  },
  {
   "cell_type": "markdown",
   "metadata": {},
   "source": [
    "##### From above we conclude that string creation is faster using join method"
   ]
  }
 ],
 "metadata": {
  "kernelspec": {
   "display_name": "Python 3",
   "language": "python",
   "name": "python3"
  },
  "language_info": {
   "codemirror_mode": {
    "name": "ipython",
    "version": 3
   },
   "file_extension": ".py",
   "mimetype": "text/x-python",
   "name": "python",
   "nbconvert_exporter": "python",
   "pygments_lexer": "ipython3",
   "version": "3.8.8"
  }
 },
 "nbformat": 4,
 "nbformat_minor": 2
}
