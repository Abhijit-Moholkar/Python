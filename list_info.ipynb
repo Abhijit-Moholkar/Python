{
 "cells": [
  {
   "cell_type": "markdown",
   "metadata": {},
   "source": [
    "# List"
   ]
  },
  {
   "cell_type": "raw",
   "metadata": {},
   "source": [
    "List is a collection elements of hetrogeneous data type with background data structure as array. As background data stucture ie array it supports indexing(positive as well as negative) as well as slicing. It is ordered (follow sequence of elements)and mutable (inplace changable). Lists allow duplicate elements. As list is a sequence of elements it is iterable. Lists are created just with square brackets."
   ]
  },
  {
   "cell_type": "markdown",
   "metadata": {},
   "source": [
    "### Creation of list"
   ]
  },
  {
   "cell_type": "code",
   "execution_count": 1,
   "metadata": {},
   "outputs": [
    {
     "name": "stdout",
     "output_type": "stream",
     "text": [
      "[]\n",
      "[]\n",
      "[10, 20, 30]\n",
      "[10, (20, 30), 'apple', True]\n"
     ]
    }
   ],
   "source": [
    "list1 = list()\n",
    "print(list1)\n",
    "list1 = []              # Enpty list\n",
    "print(list1)\n",
    "list1 = [10,20,30]     # Homogeneous list\n",
    "print(list1)\n",
    "list1 = [10,(20,30),'apple' ,True]  # Fetrogeneous list  \n",
    "print(list1)"
   ]
  },
  {
   "cell_type": "markdown",
   "metadata": {},
   "source": [
    "### To access Element"
   ]
  },
  {
   "cell_type": "markdown",
   "metadata": {},
   "source": [
    "To acess list elements we can access either positive indexing or negative indexing. A positive indexing starts with 0 and ends with n-1, While negative indexing starts with -1 and ends with -n. W\n",
    "here n is the number of elements in the list.  "
   ]
  },
  {
   "cell_type": "code",
   "execution_count": 2,
   "metadata": {},
   "outputs": [
    {
     "name": "stdout",
     "output_type": "stream",
     "text": [
      "10\n",
      "True\n",
      "True\n",
      "10\n"
     ]
    }
   ],
   "source": [
    "list1 = [10,(20,30),'apple' ,True]\n",
    "print(list1[0])\n",
    "print(list1[3])\n",
    "print(list1[-1])\n",
    "print(list1[-4])"
   ]
  },
  {
   "cell_type": "markdown",
   "metadata": {},
   "source": [
    "### To access multiple elements we can use slicing"
   ]
  },
  {
   "cell_type": "code",
   "execution_count": 3,
   "metadata": {},
   "outputs": [
    {
     "name": "stdout",
     "output_type": "stream",
     "text": [
      "[10, (20, 30), 'apple', True]\n",
      "[10, (20, 30), 'apple', True]\n",
      "[10, (20, 30), 'apple', True]\n",
      "[(20, 30), 'apple', True]\n",
      "[(20, 30), 'apple', True]\n",
      "[(20, 30), 'apple']\n",
      "[(20, 30), 'apple']\n",
      "[10, 'apple']\n",
      "[10, 'apple']\n"
     ]
    }
   ],
   "source": [
    "list1 = [10,(20,30),'apple' ,True]\n",
    "print(list1)          # To access all elements of list\n",
    "print(list1[::])      # To access all elements of list, because default start is 0, end is n-1 and step is 1\n",
    "print(list1[-4::])    # To access all elements of list, starting from -n, -1 and step is 1\n",
    "print(list1[1:])      # To access all elements of list excluding first\n",
    "print(list1[-3:])     # To access all elements of list excluding first using negative indexing\n",
    "print(list1[1:3])     # To access elements of list at index 1,2 as end is excluding\n",
    "print(list1[-3:-1])   # To access elements of list at index -3,-2 as end is excluding\n",
    "print(list1[::2])     # To access alternate elements of list as stepping is 2\n",
    "print(list1[-4::2])   # To access alternate elements of list as stepping is 2 using negative indexing"
   ]
  },
  {
   "cell_type": "markdown",
   "metadata": {},
   "source": [
    "### To change value of list element\n",
    "To change value of any element just refer to its index and assign new value"
   ]
  },
  {
   "cell_type": "code",
   "execution_count": 4,
   "metadata": {},
   "outputs": [
    {
     "name": "stdout",
     "output_type": "stream",
     "text": [
      "[10, 'Good', 'apple', True]\n"
     ]
    }
   ],
   "source": [
    "list1[1] = 'Good'\n",
    "print(list1)"
   ]
  },
  {
   "cell_type": "markdown",
   "metadata": {},
   "source": [
    "### To change multiple elements of list\n",
    "To change multiple elements of list just refere their indices uding slicing and assign new value"
   ]
  },
  {
   "cell_type": "code",
   "execution_count": 5,
   "metadata": {},
   "outputs": [
    {
     "name": "stdout",
     "output_type": "stream",
     "text": [
      "[10, 'Good', 'Morning', 'Everybody']\n"
     ]
    }
   ],
   "source": [
    "list1[2:] = ['Morning','Everybody']\n",
    "print(list1)"
   ]
  },
  {
   "cell_type": "markdown",
   "metadata": {},
   "source": [
    "### Useful Methods\n",
    "you can refer Python Documentation to see all list methods: https://docs.python.org/3/tutorial/datastructures.html"
   ]
  },
  {
   "cell_type": "code",
   "execution_count": 6,
   "metadata": {},
   "outputs": [
    {
     "name": "stdout",
     "output_type": "stream",
     "text": [
      "Length of list is:  4\n",
      "['banana', 'stroberry', 'mango', 'apple', 'mango', 'orange', 'o', 'r', 'a', 'n', 'g', 'e']\n",
      "Popped item:  e\n",
      "['banana', 'stroberry', 'apple', 'mango', 'orange', 'o', 'r', 'a', 'n', 'g']\n",
      "[]\n",
      "Reversed:  ['apple', 'cherry', 'banana']\n",
      "Reversed:  ['banana', 'cherry', 'apple']\n",
      "Sorted:  ['apple', 'banana', 'cherry']\n",
      "[0, 0, 0, 0, 0]\n",
      "[0, 0, 0, 0, 0, 'banana', 'cherry', 'apple']\n",
      "['H', 'e', 'l', 'l', 'o']\n",
      "String is:  Hello\n"
     ]
    }
   ],
   "source": [
    "my_list = [\"banana\", \"mango\", \"apple\",\"mango\"]\n",
    "\n",
    "# len() : get the count of elements in a list\n",
    "print(\"Length of list is: \", len(my_list))\n",
    "\n",
    "# append() : adds an element at the end of the list as a unit\n",
    "my_list.append(\"orange\")\n",
    "\n",
    "# append() : adds an element at the end of the list as a combination of elements\n",
    "my_list.extend(\"orange\")\n",
    "\n",
    "# insert() : insert an element at the specified position\n",
    "my_list.insert(1, \"stroberry\")\n",
    "print(my_list)\n",
    "\n",
    "# pop() : removes and returns an element at the given position, default is the last item at index -1\n",
    "item = my_list.pop()\n",
    "print(\"Popped item: \", item)\n",
    "\n",
    "# remove() : removes first occurence of an element from the list. It can't return anything\n",
    "my_list.remove(\"mango\") # Value error if not in the list\n",
    "print(my_list)\n",
    "\n",
    "# clear() : removes all elements from the list\n",
    "my_list.clear()\n",
    "print(my_list)\n",
    "\n",
    "# reverse() : reverse the elements of list. This changes are inplace. \n",
    "my_list = [\"banana\", \"cherry\", \"apple\"]\n",
    "my_list.reverse()\n",
    "print('Reversed: ', my_list)\n",
    "\n",
    "# reversed() : reverse the elements of list. This changes are not inplace. It will create a new object. It is a inbuilt library function.\n",
    "my_list = [\"banana\", \"cherry\", \"apple\"]\n",
    "reversed(my_list)\n",
    "print('Reversed: ', my_list)\n",
    "\n",
    "# sort() : sort items in ascending order. This changes are inplace\n",
    "my_list.sort()\n",
    "print('Sorted: ', my_list)\n",
    "\n",
    "# use sorted() biult in function to get a new list, and leave the original unaffected.\n",
    "# sorted() works on any iterable type, not just lists\n",
    "my_list = [\"banana\", \"cherry\", \"apple\"]\n",
    "new_list = sorted(my_list)\n",
    "\n",
    "# To create list with repeated elements\n",
    "list_with_zeros = [0] * 5\n",
    "print(list_with_zeros)\n",
    "\n",
    "# To concatenate two lists\n",
    "list_concat = list_with_zeros + my_list\n",
    "print(list_concat)\n",
    "\n",
    "# Convert string to list\n",
    "string_to_list = list('Hello')\n",
    "print(string_to_list)\n",
    "\n",
    "# To convert list to string\n",
    "s = ''.join(string_to_list)\n",
    "print(\"String is: \",s)"
   ]
  },
  {
   "cell_type": "markdown",
   "metadata": {},
   "source": [
    "### To copy list\n",
    "There are two types of copy\n",
    "1. Shallow copy: It is created using .copy() method. It will create new object as a copy of origional object, changes made in new object can't reflect in origional object\n",
    "2. Deep copy: It is created by assigning old object to new reference. It will create new reference to an existing object and changes made are reflected in origional object "
   ]
  },
  {
   "cell_type": "code",
   "execution_count": 7,
   "metadata": {},
   "outputs": [
    {
     "name": "stdout",
     "output_type": "stream",
     "text": [
      "['banana', 'cherry', 'apple', True]\n",
      "['banana', 'cherry', 'apple', True]\n",
      "['banana', 'cherry', 'apple', True]\n",
      "['banana', 'cherry', 'apple']\n"
     ]
    }
   ],
   "source": [
    "list_org = [\"banana\", \"cherry\", \"apple\"]\n",
    "\n",
    "list_copy = list_org     # It is a deep copy to create new reference to an existing object\n",
    "\n",
    "list_copy.append(True)\n",
    "print(list_copy)\n",
    "print(list_org)         # Changes made through new reference will affect the origional object\n",
    "\n",
    "\n",
    "list_org = [\"banana\", \"cherry\", \"apple\"]\n",
    "\n",
    "list_copy = list_org.copy()    # It is a shallow copy. It will create new object. We can use slicing also\n",
    "# list_copy = list(list_org)\n",
    "# list_copy = list_org[:]\n",
    "\n",
    "list_copy.append(True)         # Changes made in new object can't reflect in origional object\n",
    "print(list_copy)\n",
    "print(list_org)"
   ]
  },
  {
   "cell_type": "markdown",
   "metadata": {},
   "source": [
    "### Iteration over a list"
   ]
  },
  {
   "cell_type": "code",
   "execution_count": 8,
   "metadata": {},
   "outputs": [
    {
     "name": "stdout",
     "output_type": "stream",
     "text": [
      "banana\n",
      "cherry\n",
      "apple\n",
      "['banana', 'cherry', 'apple']\n"
     ]
    }
   ],
   "source": [
    "# Iteration on list using for loop\n",
    "\n",
    "my_list = [\"banana\", \"cherry\", \"apple\"]\n",
    "\n",
    "for i in my_list:     # It is also called as unpacking\n",
    "    print(i)\n",
    "\n",
    "# Iteration on list using list comprehenssion to get output in list format\n",
    "\n",
    "new_list = [i for i in my_list]    # It can be refered as packing\n",
    "\n",
    "print(new_list)       \n"
   ]
  },
  {
   "cell_type": "markdown",
   "metadata": {},
   "source": [
    "### Check for an existance of element"
   ]
  },
  {
   "cell_type": "code",
   "execution_count": 9,
   "metadata": {},
   "outputs": [
    {
     "name": "stdout",
     "output_type": "stream",
     "text": [
      "Present\n"
     ]
    }
   ],
   "source": [
    "if 'banana' in my_list:\n",
    "    print(\"Present\")       # To chack existance of element in list use membership operator in\n",
    "else:\n",
    "    print(\"Absent\")"
   ]
  },
  {
   "cell_type": "markdown",
   "metadata": {},
   "source": [
    "### Slicing\n",
    "Slicing is to access whole or part of a list for further processing \n",
    "\n",
    "format of slicing on list a.\n",
    "a[start:stop:step], default step is 1"
   ]
  },
  {
   "cell_type": "code",
   "execution_count": 10,
   "metadata": {},
   "outputs": [
    {
     "name": "stdout",
     "output_type": "stream",
     "text": [
      "[2, 3]\n",
      "[3, 4, 5, 6, 7, 8, 9, 10]\n",
      "[1, 2, 3]\n",
      "[0, 0, 0, 4, 5, 6, 7, 8, 9, 10]\n",
      "[0, 0, 5, 7, 9]\n",
      "[10, 9, 8, 7, 6, 5, 4, 0, 0, 0]\n",
      "[10, 9, 8, 7, 6, 5, 4, 0, 0, 0]\n"
     ]
    }
   ],
   "source": [
    "a = [1, 2, 3, 4, 5, 6, 7, 8, 9, 10]\n",
    "b = a[1:3]          # To get list element at index 2 and 3\n",
    "print(b)\n",
    "b = a[2:]           # to get all elements of list excluding at index 0 and 1\n",
    "print(b)\n",
    "b = a[:3]           # To get first 3 elements of list\n",
    "print(b)\n",
    "a[0:3] = [0]*3      # To replace sub-parts of list, you need an iterable here\n",
    "print(a)\n",
    "b = a[::2]          # To get alternate elements of list from start to end\n",
    "print(b)\n",
    "a = a[::-1]         # To reverse the list elements\n",
    "print(a)\n",
    "b = a[:]            # To copy all elements of list by preserving the sequence\n",
    "print(b)"
   ]
  },
  {
   "cell_type": "markdown",
   "metadata": {},
   "source": [
    "### List comprehenssion\n",
    "It is a way of writting single line statement instead of writting a block"
   ]
  },
  {
   "cell_type": "code",
   "execution_count": 11,
   "metadata": {},
   "outputs": [
    {
     "name": "stdout",
     "output_type": "stream",
     "text": [
      "[1, 4, 9, 16, 25, 36, 49, 64]\n"
     ]
    }
   ],
   "source": [
    "a = [1, 2, 3, 4, 5, 6, 7, 8]\n",
    "b = [i ** 2 for i in a]           # To take square of each element\n",
    "print(b)"
   ]
  },
  {
   "cell_type": "markdown",
   "metadata": {},
   "source": [
    "### Iterator of iterable\n",
    "list or tuple can be an element of list"
   ]
  },
  {
   "cell_type": "code",
   "execution_count": 12,
   "metadata": {},
   "outputs": [
    {
     "name": "stdout",
     "output_type": "stream",
     "text": [
      "[1, 2, [3, 4]]\n",
      "[1, 2, (3, 4)]\n",
      "[3, 4]\n"
     ]
    }
   ],
   "source": [
    "list1 = [1,2,[3,4]]\n",
    "list2 = [1,2,(3,4)]\n",
    "print(list1)\n",
    "print(list2)\n",
    "print(list1[2])"
   ]
  }
 ],
 "metadata": {
  "kernelspec": {
   "display_name": "Python 3",
   "language": "python",
   "name": "python3"
  },
  "language_info": {
   "codemirror_mode": {
    "name": "ipython",
    "version": 3
   },
   "file_extension": ".py",
   "mimetype": "text/x-python",
   "name": "python",
   "nbconvert_exporter": "python",
   "pygments_lexer": "ipython3",
   "version": "3.7.4"
  }
 },
 "nbformat": 4,
 "nbformat_minor": 2
}
