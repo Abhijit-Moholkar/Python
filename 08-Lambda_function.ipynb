{
 "cells": [
  {
   "cell_type": "markdown",
   "metadata": {},
   "source": [
    "# Lambda functions\n",
    "A lambda function is a small (one line) nameless anonymous function, to improve redability of code due to its concise nature. A lambda function can accept any number of input arguments, but can only have one expression. An expression may not contain all input arguments.While normal functions are defined using the def keyword, in Python anonymous functions are defined using the lambda keyword. \n",
    "\n",
    "`lambda arguments : expression`  \n",
    "\n",
    "Lambda functions are used aa an alternative to simple function. It's most common use is as an argument to higher-order functions (functions that takes other functions as input arguments). Lambda function performs good on iterables."
   ]
  },
  {
   "cell_type": "code",
   "execution_count": 1,
   "metadata": {},
   "outputs": [
    {
     "name": "stdout",
     "output_type": "stream",
     "text": [
      "25 1010\n",
      "2000 3500\n"
     ]
    }
   ],
   "source": [
    "# A lambda function that adds 10 to the input argument\n",
    "\n",
    "f = lambda x: x+10\n",
    "val1 = f(15)\n",
    "val2 = f(1000)\n",
    "print(val1, val2)\n",
    "\n",
    "# A lambda function that multiplies two input arguments and returns the result\n",
    "\n",
    "f = lambda x,y: x*y\n",
    "val3 = f(20,100)\n",
    "val4 = f(70,50)\n",
    "print(val3, val4)"
   ]
  },
  {
   "cell_type": "markdown",
   "metadata": {},
   "source": [
    "##### Lambda function over an iterables\n",
    "Lambda function performs well on iterable to execute same expression on each element of it. "
   ]
  },
  {
   "cell_type": "markdown",
   "metadata": {},
   "source": [
    "##### Usage example: Lamdba inside another function\n",
    "Return a customized lambda function from another function and create different function variations depending as per your needs."
   ]
  },
  {
   "cell_type": "code",
   "execution_count": 2,
   "metadata": {},
   "outputs": [
    {
     "name": "stdout",
     "output_type": "stream",
     "text": [
      "12\n",
      "18\n"
     ]
    }
   ],
   "source": [
    "def myfunc(n):\n",
    "    return lambda x: x * n\n",
    "\n",
    "doubler = myfunc(2)\n",
    "print(doubler(6))\n",
    "\n",
    "tripler = myfunc(3)\n",
    "print(tripler(6))"
   ]
  },
  {
   "cell_type": "markdown",
   "metadata": {},
   "source": [
    "##### Custom sorting using a lambda function as key parameter\n",
    "The key function transforms each element before sorting operation."
   ]
  },
  {
   "cell_type": "code",
   "execution_count": 3,
   "metadata": {},
   "outputs": [
    {
     "name": "stdout",
     "output_type": "stream",
     "text": [
      "[(5, -3), (4, 1), (10, 2), (1, 9)]\n",
      "[-1, 1, -2, 2, -3, 3, -4, 4]\n"
     ]
    }
   ],
   "source": [
    "points2D = [(1, 9), (4, 1), (5, -3), (10, 2)]\n",
    "sorted_by_y = sorted(points2D, key= lambda x: x[1])\n",
    "print(sorted_by_y)\n",
    "\n",
    "mylist = [- 1, -4, -2, -3, 1, 2, 3, 4]\n",
    "sorted_by_abs = sorted(mylist, key= lambda x: abs(x))\n",
    "print(sorted_by_abs)"
   ]
  },
  {
   "cell_type": "markdown",
   "metadata": {},
   "source": [
    "##### Use lambda for map function\n",
    "`map(func, seq)`, map function is a higher order function as it take argument as another function. It will apply function on each element of iterable sequence. Function may be normal function or lambda function, more precisely lambda function. As output of map function is oject, we need to typecast it to view contents of it."
   ]
  },
  {
   "cell_type": "code",
   "execution_count": 4,
   "metadata": {},
   "outputs": [
    {
     "name": "stdout",
     "output_type": "stream",
     "text": [
      "[2, 4, 6, 8, 10, 12]\n",
      "[2, 4, 6, 8, 10, 12]\n"
     ]
    }
   ],
   "source": [
    "a  = [1, 2, 3, 4, 5, 6]\n",
    "b = list(map(lambda x: x * 2 , a))\n",
    "\n",
    "# Use map if you have an already defined function\n",
    "# However, try to prefer list comprehension\n",
    "\n",
    "c = [x*2 for x in a]\n",
    "print(b)\n",
    "print(c)"
   ]
  },
  {
   "cell_type": "markdown",
   "metadata": {},
   "source": [
    "##### Use lambda for filter function\n",
    "It is another higher order function as it also accept input as another function.\n",
    "`filter(func, seq)`, returns all elements of sequence for which func evaluates to True.\n",
    "As output of filter function is oject, we need to typecast it to view contents of it."
   ]
  },
  {
   "cell_type": "code",
   "execution_count": 5,
   "metadata": {},
   "outputs": [
    {
     "name": "stdout",
     "output_type": "stream",
     "text": [
      "[12, 14, 16, 18]\n",
      "[12, 14, 16, 18]\n"
     ]
    }
   ],
   "source": [
    "# Access even elements from given iterable\n",
    "\n",
    "a = [11, 12, 13, 14, 15, 16, 17, 18]\n",
    "b = list(filter(lambda x: (x%2 == 0) , a))\n",
    "\n",
    "# However, the same can be performed with list comprehension\n",
    "\n",
    "c = [x for x in a if x%2 == 0]\n",
    "print(b)\n",
    "print(c)"
   ]
  },
  {
   "cell_type": "markdown",
   "metadata": {},
   "source": [
    "##### Use lambda for reduce function\n",
    "`reduce(func, seq)`, apply the func on each elements to returns a single value as result.  \n",
    "As result having single value no need to typecast it."
   ]
  },
  {
   "cell_type": "code",
   "execution_count": 6,
   "metadata": {},
   "outputs": [
    {
     "name": "stdout",
     "output_type": "stream",
     "text": [
      "384\n",
      "20\n"
     ]
    }
   ],
   "source": [
    "from functools import reduce\n",
    "a = [2, 4, 6, 8]\n",
    "product_a = reduce(lambda x, y: x*y, a)\n",
    "print(product_a)\n",
    "sum_a = reduce(lambda x, y: x+y, a)\n",
    "print(sum_a)"
   ]
  }
 ],
 "metadata": {
  "kernelspec": {
   "display_name": "Python 3",
   "language": "python",
   "name": "python3"
  },
  "language_info": {
   "codemirror_mode": {
    "name": "ipython",
    "version": 3
   },
   "file_extension": ".py",
   "mimetype": "text/x-python",
   "name": "python",
   "nbconvert_exporter": "python",
   "pygments_lexer": "ipython3",
   "version": "3.8.8"
  }
 },
 "nbformat": 4,
 "nbformat_minor": 2
}
