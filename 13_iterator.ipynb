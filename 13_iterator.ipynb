{
 "cells": [
  {
   "cell_type": "code",
   "execution_count": 1,
   "id": "248a74d5",
   "metadata": {},
   "outputs": [
    {
     "name": "stdout",
     "output_type": "stream",
     "text": [
      "HBO\n",
      "cnn\n",
      "abc\n",
      "espn\n"
     ]
    }
   ],
   "source": [
    "class RemoteControl():\n",
    "    def __init__(self):                      # Initialization after object creation\n",
    "        self.channels = [\"HBO\",\"cnn\",\"abc\",\"espn\"]\n",
    "        self.index = -1\n",
    "\n",
    "    def __iter__(self):                      #  Returns iterator object itself\n",
    "        return self\n",
    "\n",
    "    def __next__(self):                      # Returns next item in the sequence\n",
    "        self.index += 1\n",
    "        if self.index == len(self.channels):\n",
    "            raise StopIteration              # User defined Error/ Exception if index out of bound\n",
    "\n",
    "        return self.channels[self.index]\n",
    "\n",
    "r = RemoteControl()       # Create object of RemoteControl class\n",
    "itr=iter(r)\n",
    "print(next(itr))          # Get first value of iterable\n",
    "print(next(itr))          # Get second value of iterable\n",
    "print(next(itr))          # Get third value of iterable\n",
    "print(next(itr))          # Get fourth value of iterable"
   ]
  }
 ],
 "metadata": {
  "kernelspec": {
   "display_name": "Python 3",
   "language": "python",
   "name": "python3"
  },
  "language_info": {
   "codemirror_mode": {
    "name": "ipython",
    "version": 3
   },
   "file_extension": ".py",
   "mimetype": "text/x-python",
   "name": "python",
   "nbconvert_exporter": "python",
   "pygments_lexer": "ipython3",
   "version": "3.8.8"
  }
 },
 "nbformat": 4,
 "nbformat_minor": 5
}
