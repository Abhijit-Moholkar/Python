{
 "cells": [
  {
   "cell_type": "markdown",
   "metadata": {},
   "source": [
    "# Dictionaries"
   ]
  },
  {
   "cell_type": "markdown",
   "metadata": {},
   "source": [
    "A dictionary is a collection of unordered, mutable and indexed (key,value) pairs. A key will be refered as index in dictionary. Each key-value pair maps the key to its associated value. A dictionary is written in braces. Each key is separated from its value by a colon (:), and the items are separated by commas. \n",
    "- Keys can not be duplicate but values can\n",
    "- Background data structure is hash table\n",
    "- It accept homo/hetro data\n",
    "- As background data stucture is hash table, it doesnot support indexing or slicing\n",
    "- It has {key:value} structure which is is different from others\n",
    "\n",
    "`my_dict = {\"name\":\"Marry\", \"age\":22, \"city\":\"New York\"}`"
   ]
  },
  {
   "cell_type": "markdown",
   "metadata": {},
   "source": [
    "##### Create a dictionary\n",
    "Create a dictionary with braces, or with the built-in dict funtion."
   ]
  },
  {
   "cell_type": "code",
   "execution_count": 1,
   "metadata": {},
   "outputs": [
    {
     "name": "stdout",
     "output_type": "stream",
     "text": [
      "{}\n",
      "{}\n",
      "{'name': 'Marry'}\n",
      "{'name': 'Marry', 'age': 22, 'city': 'New York'}\n",
      "{'name': 'Mona', 'age': 29, 'city': 'Boston'}\n"
     ]
    }
   ],
   "source": [
    "my_dict = {}                  # Creation of empty dictionary\n",
    "print(my_dict)\n",
    "\n",
    "my_dict = dict()\n",
    "print(my_dict)\n",
    "\n",
    "my_dict1 = {\"name\":\"Marry\"}    # Creation of dictionary with sinle pair\n",
    "print(my_dict1)\n",
    "\n",
    "my_dict = {\"name\":\"Marry\", \"age\":22, \"city\":\"New York\"}     # Creation of dictionary with multiple values\n",
    "print(my_dict)\n",
    "\n",
    "# or use the dict function, note: no quotes necessary for keys\n",
    "my_dict = dict(name=\"Mona\", age=29, city=\"Boston\")\n",
    "print(my_dict)"
   ]
  },
  {
   "cell_type": "markdown",
   "metadata": {},
   "source": [
    "##### Create dictionary from other data types"
   ]
  },
  {
   "cell_type": "code",
   "execution_count": 2,
   "metadata": {},
   "outputs": [
    {
     "name": "stdout",
     "output_type": "stream",
     "text": [
      "{10: None, 20: None, 30: None, 40: None, 50: None}\n",
      "{10: 5, 20: 5, 30: 5, 40: 5, 50: 5}\n",
      "{10: 10, 20: 10, 30: 10, 40: 10, 50: 10}\n",
      "{40: 15, 10: 15, 50: 15, 20: 15, 30: 15}\n"
     ]
    }
   ],
   "source": [
    "# Createing a dictionary from list. Each element of list act as key and values are None as not specified\n",
    "l = [10,20,30,40,50]\n",
    "my_dict = dict.fromkeys(l)  \n",
    "print(my_dict)\n",
    "\n",
    "# Createing a dictionary from list. Each element of list act as key and values associated with all keys are as specified\n",
    "l = [10,20,30,40,50]\n",
    "my_dict = dict.fromkeys(l,5)  \n",
    "print(my_dict)\n",
    "\n",
    "# Createing a dictionary from tuple. Each element of tuple act as key and values are None as not specified\n",
    "l = (10,20,30,40,50)\n",
    "my_dict = dict.fromkeys(l,10)  \n",
    "print(my_dict)\n",
    "\n",
    "# Createing a dictionary from set. Each element of set act as key and values are None as not specified\n",
    "l = {10,20,30,40,50}\n",
    "my_dict = dict.fromkeys(l,15)  \n",
    "print(my_dict)"
   ]
  },
  {
   "cell_type": "markdown",
   "metadata": {},
   "source": [
    "##### Add new element in dictionary"
   ]
  },
  {
   "cell_type": "code",
   "execution_count": 3,
   "metadata": {},
   "outputs": [
    {
     "name": "stdout",
     "output_type": "stream",
     "text": [
      "15\n",
      "{40: 15, 10: 15, 50: 15, 20: 15, 30: 15, 15: None}\n",
      "{40: 15, 10: 15, 50: 15, 20: 15, 30: 15, 15: None, 'email': 'max@xyz.com'}\n",
      "{40: 15, 10: 15, 50: 15, 20: 15, 30: 15, 15: None, 'email': 'coolmax@xyz.com'}\n",
      "{40: 15, 10: 15, 50: 15, 20: 15, 30: 15, 15: None, 'email': 'coolmax@xyz.com', 'name': 'Sameer'}\n"
     ]
    }
   ],
   "source": [
    "print(my_dict.setdefault(10))    # Check presence of index 10 in dictionary if found return value associated with it\n",
    "\n",
    "\n",
    "my_dict.setdefault(15)           # If key is not present then add it in dictionary and set its value to None\n",
    "print(my_dict)\n",
    "\n",
    "# add a new key value pair\n",
    "my_dict[\"email\"] = \"max@xyz.com\"\n",
    "print(my_dict)\n",
    "\n",
    "# or update the existing key\n",
    "my_dict[\"email\"] = \"coolmax@xyz.com\"\n",
    "print(my_dict)\n",
    "\n",
    "my_dict.update({'name':'Sameer'})\n",
    "print(my_dict)"
   ]
  },
  {
   "cell_type": "markdown",
   "metadata": {},
   "source": [
    "##### Check presence of key in dictionary"
   ]
  },
  {
   "cell_type": "code",
   "execution_count": 4,
   "metadata": {},
   "outputs": [
    {
     "data": {
      "text/plain": [
       "dict_keys([40, 10, 50, 20, 30, 15, 'email', 'name'])"
      ]
     },
     "execution_count": 4,
     "metadata": {},
     "output_type": "execute_result"
    }
   ],
   "source": [
    "my_dict.keys()"
   ]
  },
  {
   "cell_type": "markdown",
   "metadata": {},
   "source": [
    "##### Access items"
   ]
  },
  {
   "cell_type": "code",
   "execution_count": 5,
   "metadata": {},
   "outputs": [
    {
     "name": "stdout",
     "output_type": "stream",
     "text": [
      "Sameer\n",
      "No key found\n",
      "Sameer\n",
      "None\n"
     ]
    }
   ],
   "source": [
    "print(my_dict[\"name\"])                 # KeyError if no key is found\n",
    "\n",
    "# use try except\n",
    "try:\n",
    "    print(my_dict[\"firstname\"])\n",
    "except KeyError:\n",
    "    print(\"No key found\") \n",
    "    \n",
    "  \n",
    "# Use get method of dictionary to avoide error\n",
    "print(my_dict.get('name'))\n",
    "print(my_dict.get('city'))             # None if not found insteade of error"
   ]
  },
  {
   "cell_type": "markdown",
   "metadata": {},
   "source": [
    "##### Unpacking of dictionary items"
   ]
  },
  {
   "cell_type": "code",
   "execution_count": 6,
   "metadata": {},
   "outputs": [
    {
     "name": "stdout",
     "output_type": "stream",
     "text": [
      "{'a': 40, 'b': 60, 'c': 80}\n",
      "20 30 40\n"
     ]
    }
   ],
   "source": [
    "new_dict = {'a':20,'b':30,'c':40} \n",
    "dict1 = {key:value*2 for (key,value) in new_dict.items() }    # Dictionary comprehenssion\n",
    "print(dict1)\n",
    "a,b,c = new_dict.values()\n",
    "print(a,b,c)"
   ]
  },
  {
   "cell_type": "markdown",
   "metadata": {},
   "source": [
    "##### Delete items"
   ]
  },
  {
   "cell_type": "code",
   "execution_count": 7,
   "metadata": {},
   "outputs": [
    {
     "name": "stdout",
     "output_type": "stream",
     "text": [
      "{40: 15, 10: 15, 50: 15, 20: 15, 30: 15, 15: None, 'name': 'Sameer'}\n",
      "popped value: Sameer\n",
      "{40: 15, 10: 15, 50: 15, 20: 15, 30: 15, 15: None}\n",
      "popped item: (15, None)\n",
      "{40: 15, 10: 15, 50: 15, 20: 15, 30: 15}\n"
     ]
    }
   ],
   "source": [
    "# Delete Entire dictionary\n",
    "del my_dict1\n",
    "\n",
    "# Delete a key-value pair\n",
    "del my_dict[\"email\"]\n",
    "print(my_dict)\n",
    "\n",
    "# It returns the value and removes the key-value pair\n",
    "print(\"popped value:\", my_dict.pop(\"name\"))\n",
    "print(my_dict)\n",
    "\n",
    "# Return and removes the last inserted key-value pair \n",
    "# (in versions before Python 3.7 it removes an arbitrary pair)\n",
    "# If dictionary is empty it generates keyError\n",
    "print(\"popped item:\", my_dict.popitem())\n",
    "\n",
    "print(my_dict)\n",
    "\n",
    "# clear() : remove all pairs\n",
    "# my_dict.clear()"
   ]
  },
  {
   "cell_type": "markdown",
   "metadata": {},
   "source": [
    "##### Iteration through dictionary"
   ]
  },
  {
   "cell_type": "code",
   "execution_count": 8,
   "metadata": {},
   "outputs": [
    {
     "name": "stdout",
     "output_type": "stream",
     "text": [
      "40 15\n",
      "10 15\n",
      "50 15\n",
      "20 15\n",
      "30 15\n",
      "40\n",
      "10\n",
      "50\n",
      "20\n",
      "30\n",
      "15\n",
      "15\n",
      "15\n",
      "15\n",
      "15\n",
      "40 15\n",
      "10 15\n",
      "50 15\n",
      "20 15\n",
      "30 15\n"
     ]
    }
   ],
   "source": [
    "# Iteration over keys\n",
    "for key in my_dict:\n",
    "    print(key, my_dict[key])\n",
    "\n",
    "# Iteration over keys\n",
    "for key in my_dict.keys():\n",
    "    print(key)\n",
    "\n",
    "# Iteration over values\n",
    "for value in my_dict.values():\n",
    "    print(value)\n",
    "\n",
    "# Iteration over keys and values\n",
    "for key, value in my_dict.items():\n",
    "    print(key, value)"
   ]
  },
  {
   "cell_type": "markdown",
   "metadata": {},
   "source": [
    "##### Copy a dictionary\n",
    "It can be shallo copy or deep copy\n",
    "1. shallow copy: It create new object. Updations in new object never reflect in old object\n",
    "2. Deep copy: It just create reference to an existing object. Updations made using new object are inplace. "
   ]
  },
  {
   "cell_type": "code",
   "execution_count": 9,
   "metadata": {},
   "outputs": [
    {
     "name": "stdout",
     "output_type": "stream",
     "text": [
      "{'name': 'Lisa', 'age': 28, 'city': 'New York'}\n",
      "{'name': 'Lisa', 'age': 28, 'city': 'New York'}\n",
      "{'name': 'Lisa', 'age': 28, 'city': 'New York'}\n",
      "{'name': 'Marry', 'age': 28, 'city': 'New York'}\n"
     ]
    }
   ],
   "source": [
    "dict_org = {\"name\":\"Max\", \"age\":28, \"city\":\"New York\"}\n",
    "\n",
    "# Deep copy\n",
    "dict_copy = dict_org\n",
    "\n",
    "# Updations made using new object are inplace.\n",
    "dict_copy[\"name\"] = \"Lisa\"\n",
    "print(dict_copy)\n",
    "print(dict_org)\n",
    "\n",
    "# shallo copy\n",
    "dict_org = {\"name\":\"Marry\", \"age\":28, \"city\":\"New York\"}\n",
    "\n",
    "dict_copy = dict_org.copy()\n",
    "# dict_copy = dict(dict_org)\n",
    "\n",
    "# Updations in new object never reflect in old object\n",
    "dict_copy[\"name\"] = \"Lisa\"\n",
    "print(dict_copy)\n",
    "print(dict_org)"
   ]
  },
  {
   "cell_type": "markdown",
   "metadata": {},
   "source": [
    "##### Merge two dictionaries"
   ]
  },
  {
   "cell_type": "code",
   "execution_count": 10,
   "metadata": {},
   "outputs": [
    {
     "name": "stdout",
     "output_type": "stream",
     "text": [
      "{'name': 'Mona', 'age': 27, 'email': 'marry@xyz.com', 'city': 'Boston'}\n"
     ]
    }
   ],
   "source": [
    "# Use the update() method to merge 2 dictionaries\n",
    "# Second dictionary will be added at the end of first dictionary\n",
    "# As keys of dictionary needs to be unique, it ignore item with repetated key \n",
    "\n",
    "my_dict = {\"name\":\"Marry\", \"age\":22, \"email\":\"marry@xyz.com\"}\n",
    "my_dict_2 = dict(name=\"Mona\", age=27, city=\"Boston\")\n",
    "\n",
    "my_dict.update(my_dict_2)\n",
    "print(my_dict)"
   ]
  },
  {
   "cell_type": "markdown",
   "metadata": {},
   "source": [
    "##### Possible key types\n",
    "Any immutable type, like strings or numbers can be used as a key.\n",
    "Also, a tuple, set can be used if it contains only immutable elements."
   ]
  },
  {
   "cell_type": "code",
   "execution_count": 11,
   "metadata": {},
   "outputs": [
    {
     "name": "stdout",
     "output_type": "stream",
     "text": [
      "15\n"
     ]
    }
   ],
   "source": [
    "# use numbers as key, as numbers are immuatable\n",
    "my_dict = {3: 9, 6: 36, 9:81}\n",
    "\n",
    "# use a tuple with immutable elements (e.g. number, string)\n",
    "my_tuple = (8, 7)\n",
    "my_dict = {my_tuple: 15}\n",
    "\n",
    "print(my_dict[my_tuple])\n",
    "# print(my_dict[8, 7])\n",
    "\n",
    "# a list is not possible because it is not immutable\n",
    "# this will raise an Error:\n",
    "# my_list = [8, 7]\n",
    "# my_dict = {my_list: 15}"
   ]
  },
  {
   "cell_type": "markdown",
   "metadata": {},
   "source": [
    "##### Nested dictionaries\n",
    "dictionary may contain nested dictionaries"
   ]
  },
  {
   "cell_type": "code",
   "execution_count": 12,
   "metadata": {},
   "outputs": [
    {
     "name": "stdout",
     "output_type": "stream",
     "text": [
      "{'dictA': {'name': 'Max', 'age': 28}, 'dictB': {'name': 'Alex', 'age': 25}}\n"
     ]
    }
   ],
   "source": [
    "my_dict_1 = {\"name\": \"Max\", \"age\": 28}\n",
    "my_dict_2 = {\"name\": \"Alex\", \"age\": 25}\n",
    "nested_dict = {\"dictA\": my_dict_1,\n",
    "               \"dictB\": my_dict_2}\n",
    "print(nested_dict)"
   ]
  }
 ],
 "metadata": {
  "kernelspec": {
   "display_name": "Python 3",
   "language": "python",
   "name": "python3"
  },
  "language_info": {
   "codemirror_mode": {
    "name": "ipython",
    "version": 3
   },
   "file_extension": ".py",
   "mimetype": "text/x-python",
   "name": "python",
   "nbconvert_exporter": "python",
   "pygments_lexer": "ipython3",
   "version": "3.7.4"
  }
 },
 "nbformat": 4,
 "nbformat_minor": 2
}
